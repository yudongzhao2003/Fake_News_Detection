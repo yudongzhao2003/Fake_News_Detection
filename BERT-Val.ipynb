{
 "cells": [
  {
   "cell_type": "code",
   "execution_count": 2,
   "id": "f3cef5fa-245d-4747-978d-613e963dd1be",
   "metadata": {
    "tags": []
   },
   "outputs": [],
   "source": [
    "import pandas as pd\n",
    "import numpy as np\n",
    "\n",
    "fake_text = pd.read_csv('DataSet_Misinfo_FAKE.csv').head(1000)\n",
    "real_text = pd.read_csv('DataSet_Misinfo_TRUE.csv').head(1000)\n",
    "\n",
    "fake_text.drop(fake_text.columns[0],axis=1,inplace=True)\n",
    "real_text.drop(real_text.columns[0],axis=1,inplace=True)"
   ]
  },
  {
   "cell_type": "code",
   "execution_count": 3,
   "id": "31aa92c1-e090-4ac0-960e-8904c70ead90",
   "metadata": {
    "tags": []
   },
   "outputs": [],
   "source": [
    "mixed_text = pd.concat([real_text,fake_text])['text'].tolist()\n",
    "\n",
    "for i in range(0,len(mixed_text)):\n",
    "    mixed_text[i] = str(mixed_text[i])\n",
    "    \n",
    "Y = np.concatenate([np.ones(len(real_text)), np.zeros(len(fake_text))])"
   ]
  },
  {
   "cell_type": "code",
   "execution_count": 4,
   "id": "15644acc-54e1-4585-a0ab-7badddd829a3",
   "metadata": {
    "tags": []
   },
   "outputs": [],
   "source": [
    "#对文本进行预处理\n",
    "import torch\n",
    "import numpy as np\n",
    "from transformers import BertTokenizer\n",
    "tokenizer = BertTokenizer.from_pretrained('bert-base-cased')#选用large-cased版本\n",
    "\n",
    "#tokenize\n",
    "tokenized_text = tokenizer(mixed_text, padding='max_length', truncation=True, max_length=512, return_tensors='pt')\n",
    "\n",
    "\n",
    "#构建TensorDataset用于训练\n",
    "input_ids = tokenized_text['input_ids']\n",
    "attention_mask = tokenized_text['attention_mask']\n",
    "Y = torch.tensor(Y)\n",
    "\n",
    "data = torch.utils.data.TensorDataset(input_ids,attention_mask,Y)\n"
   ]
  },
  {
   "cell_type": "code",
   "execution_count": 5,
   "id": "43cfde92-c635-446c-90f0-ebc00fd608fb",
   "metadata": {
    "tags": []
   },
   "outputs": [],
   "source": [
    "from sklearn.model_selection import train_test_split\n",
    "from torch.utils.data import DataLoader\n",
    "\n",
    "train_data, test_data = train_test_split(data, test_size=0.2)\n",
    "\n",
    "train_loaded = DataLoader(train_data, batch_size=32)\n",
    "test_loaded = DataLoader(test_data, batch_size=32)"
   ]
  },
  {
   "cell_type": "code",
   "execution_count": 6,
   "id": "e6d89b5d-b370-4fea-b2aa-4df67d63998f",
   "metadata": {
    "tags": []
   },
   "outputs": [
    {
     "name": "stderr",
     "output_type": "stream",
     "text": [
      "Some weights of BertForSequenceClassification were not initialized from the model checkpoint at bert-base-cased and are newly initialized: ['classifier.weight', 'classifier.bias']\n",
      "You should probably TRAIN this model on a down-stream task to be able to use it for predictions and inference.\n"
     ]
    }
   ],
   "source": [
    "from tqdm import tqdm\n",
    "from transformers import BertForSequenceClassification\n",
    "\n",
    "model = BertForSequenceClassification.from_pretrained('bert-base-cased')\n",
    "\n",
    "#定义训练参数\n",
    "optimizer = torch.optim.Adam(model.parameters(), lr=2e-5)\n",
    "loss_fn = torch.nn.CrossEntropyLoss()\n",
    "\n",
    "device = torch.device(\"cuda\" if torch.cuda.is_available() else \"cpu\")\n",
    "model.to(device)\n",
    "\n",
    "epochs = 3"
   ]
  },
  {
   "cell_type": "code",
   "execution_count": 7,
   "id": "9367b04a-ff57-447f-8868-12856362971b",
   "metadata": {
    "tags": []
   },
   "outputs": [
    {
     "name": "stderr",
     "output_type": "stream",
     "text": [
      "Epoch 1/3: 100%|██████████| 50/50 [2:38:47<00:00, 190.54s/it]  \n"
     ]
    },
    {
     "name": "stdout",
     "output_type": "stream",
     "text": [
      "Epochs: 1 \n",
      "            | Train Accuracy:  1.000  \n",
      "            | Train Precision:  1.000 \n",
      "            | Train Recall:  1.000 \n",
      "            | Train F1Score:  1.000\n",
      "            | Val Accuracy:  1.000\n",
      "            | Val Precision:  1.000\n",
      "            | Val Recall:  1.000\n",
      "            | Val F1Score:  1.000\n"
     ]
    },
    {
     "name": "stderr",
     "output_type": "stream",
     "text": [
      "Epoch 2/3: 100%|██████████| 50/50 [2:38:58<00:00, 190.76s/it]  \n"
     ]
    },
    {
     "name": "stdout",
     "output_type": "stream",
     "text": [
      "Epochs: 2 \n",
      "            | Train Accuracy:  1.000  \n",
      "            | Train Precision:  1.000 \n",
      "            | Train Recall:  1.000 \n",
      "            | Train F1Score:  1.000\n",
      "            | Val Accuracy:  1.000\n",
      "            | Val Precision:  1.000\n",
      "            | Val Recall:  1.000\n",
      "            | Val F1Score:  1.000\n"
     ]
    },
    {
     "name": "stderr",
     "output_type": "stream",
     "text": [
      "Epoch 3/3: 100%|██████████| 50/50 [2:37:58<00:00, 189.57s/it]  "
     ]
    },
    {
     "name": "stdout",
     "output_type": "stream",
     "text": [
      "Epochs: 3 \n",
      "            | Train Accuracy:  1.000  \n",
      "            | Train Precision:  1.000 \n",
      "            | Train Recall:  1.000 \n",
      "            | Train F1Score:  1.000\n",
      "            | Val Accuracy:  1.000\n",
      "            | Val Precision:  1.000\n",
      "            | Val Recall:  1.000\n",
      "            | Val F1Score:  1.000\n"
     ]
    },
    {
     "name": "stderr",
     "output_type": "stream",
     "text": [
      "\n"
     ]
    }
   ],
   "source": [
    "import os\n",
    "from torchmetrics.functional import accuracy\n",
    "from torchmetrics import Recall, F1Score, Precision\n",
    "\n",
    "os.environ['KMP_DUPLICATE_LIB_OK']='True'\n",
    "\n",
    "NoneType = type(None)\n",
    "\n",
    "if torch.cuda.is_available():\n",
    "    model = model.cuda()\n",
    "    loss_fn = loss_fn.cuda()\n",
    "\n",
    "for epoch in range(epochs):\n",
    "    total_acc_train = 0\n",
    "    total_loss_train = 0\n",
    "    model.train()\n",
    "    \n",
    "    for batch in tqdm(train_loaded, desc=f\"Epoch {epoch + 1}/{epochs}\"):\n",
    "        input_ids, attention_mask, Y = batch\n",
    "        input_ids = input_ids.squeeze(1).to(device)\n",
    "        attention_mask = attention_mask.to(device)\n",
    "        Y = Y.to(device)\n",
    "        \n",
    "        optimizer.zero_grad()\n",
    "        \n",
    "        output = model(input_ids, attention_mask)\n",
    "        \n",
    "        logits = output.logits\n",
    "        predictions = torch.argmax(logits, dim=1)\n",
    "        acc = accuracy(predictions, Y,'multiclass', num_classes=2)\n",
    "        precision =  Precision('multiclass',average='micro', num_classes=2)\n",
    "        pre = precision(predictions, Y)\n",
    "        f1score =  F1Score('multiclass', num_classes=2)\n",
    "        f1 = f1score(predictions, Y)\n",
    "        recall = Recall('multiclass',average='micro', num_classes=2)\n",
    "        rec = recall(predictions, Y)\n",
    "    \n",
    "        Y1=Y.long()\n",
    "        loss = loss_fn(logits,Y1)\n",
    "        loss.backward()\n",
    "        \n",
    "        optimizer.step()\n",
    "        \n",
    "        total_acc_val = 0\n",
    "        total_loss_val = 0\n",
    "\n",
    "        with torch.no_grad():\n",
    "            for valinput_ids, valattention_mask, valY in test_loaded:\n",
    "                valinput_ids = valinput_ids.squeeze(1).to(device)\n",
    "                valattention_mask = valattention_mask.to(device)\n",
    "                valY = valY.to(device)\n",
    "        \n",
    "                optimizer.zero_grad()\n",
    "                output1 = model(valinput_ids, valattention_mask)\n",
    "            \n",
    "                logits1 = output1.logits\n",
    "                predictions1 = torch.argmax(logits1, dim=1)\n",
    "                acc1 = accuracy(predictions1, valY,'binary', num_classes=2)\n",
    "                \n",
    "                precision =  Precision('multiclass',average='micro', num_classes=2)\n",
    "                pre1 = precision(predictions1, valY)\n",
    "                f1score =  F1Score('multiclass', num_classes=2)\n",
    "                f1_1 = f1score(predictions1, valY)\n",
    "                recall = Recall('multiclass',average='micro', num_classes=2)\n",
    "                rec1 = recall(predictions1, valY)\n",
    "                \n",
    "                optimizer.step()\n",
    "                \n",
    "    print(f'''Epochs: {epoch + 1} \n",
    "            | Train Accuracy: {acc: .3f}  \n",
    "            | Train Precision: {pre: .3f} \n",
    "            | Train Recall: {rec: .3f} \n",
    "            | Train F1Score: {f1: .3f}\n",
    "            | Val Accuracy: {acc1: .3f}\n",
    "            | Val Precision: {pre1: .3f}\n",
    "            | Val Recall: {rec1: .3f}\n",
    "            | Val F1Score: {f1_1: .3f}''') "
   ]
  },
  {
   "cell_type": "code",
   "execution_count": 1,
   "id": "42be5bb6-0076-427f-b5fa-c31f20e95bfa",
   "metadata": {
    "tags": []
   },
   "outputs": [],
   "source": [
    "import pandas as pd\n",
    "import numpy as np\n",
    "import os\n",
    "from torchmetrics.functional import accuracy\n",
    "from torchmetrics import Recall, F1Score, Precision\n",
    "from sklearn.model_selection import train_test_split\n",
    "from torch.utils.data import DataLoader\n",
    "import torch\n",
    "import numpy as np\n",
    "from transformers import BertTokenizer"
   ]
  },
  {
   "cell_type": "code",
   "execution_count": 2,
   "id": "f97f61fc-083e-401c-bb3d-2503bdb5ce07",
   "metadata": {
    "tags": []
   },
   "outputs": [],
   "source": [
    "model = torch.load('model')"
   ]
  },
  {
   "cell_type": "code",
   "execution_count": 3,
   "id": "81670d39-2cd2-4eae-9878-cd5a34feee6a",
   "metadata": {
    "tags": []
   },
   "outputs": [],
   "source": [
    "fake_text_all = pd.read_csv('DataSet_Misinfo_FAKE.csv').loc[1001:1101,:]\n",
    "real_text_all = pd.read_csv('DataSet_Misinfo_TRUE.csv').loc[1001:1101,:]\n",
    "\n",
    "fake_text_all.drop(fake_text_all.columns[0],axis=1,inplace=True)\n",
    "real_text_all.drop(real_text_all.columns[0],axis=1,inplace=True)"
   ]
  },
  {
   "cell_type": "code",
   "execution_count": 4,
   "id": "b7668043-a77f-421a-ad70-0129cda5f53b",
   "metadata": {
    "tags": []
   },
   "outputs": [],
   "source": [
    "mixed_text_all = pd.concat([real_text_all,fake_text_all])['text'].tolist()\n",
    "\n",
    "for i in range(0,len(mixed_text_all)):\n",
    "    mixed_text_all[i] = str(mixed_text_all[i])\n",
    "    \n",
    "Y_all = np.concatenate([np.ones(len(real_text_all)), np.zeros(len(fake_text_all))])"
   ]
  },
  {
   "cell_type": "code",
   "execution_count": 5,
   "id": "f2ea8c73-b23b-45c1-bd55-087b6ca33723",
   "metadata": {
    "tags": []
   },
   "outputs": [],
   "source": [
    "tokenizer = BertTokenizer.from_pretrained('bert-base-cased')#选用large-cased版本\n",
    "tokenized_text_all = tokenizer(mixed_text_all, padding='max_length', truncation=True, max_length=512, return_tensors='pt')\n",
    "\n",
    "\n",
    "#构建TensorDataset用于训练\n",
    "input_ids_all = tokenized_text_all['input_ids']\n",
    "attention_mask_all = tokenized_text_all['attention_mask']\n",
    "Y_all = torch.tensor(Y_all)\n",
    "\n",
    "data_all = torch.utils.data.TensorDataset(input_ids_all,attention_mask_all,Y_all)"
   ]
  },
  {
   "cell_type": "code",
   "execution_count": 6,
   "id": "e879bedb-4a30-438f-8250-ed36214ca005",
   "metadata": {
    "tags": []
   },
   "outputs": [],
   "source": [
    "valdata_all = DataLoader(data_all, batch_size=32)"
   ]
  },
  {
   "cell_type": "code",
   "execution_count": null,
   "id": "a98e708a-04a2-43aa-93d7-fd37798866b8",
   "metadata": {
    "tags": []
   },
   "outputs": [
    {
     "name": "stderr",
     "output_type": "stream",
     "text": [
      " 14%|█▍        | 1/7 [00:18<01:53, 18.93s/it]"
     ]
    }
   ],
   "source": [
    "from tqdm import tqdm\n",
    "\n",
    "device = torch.device(\"cuda\" if torch.cuda.is_available() else \"cpu\")\n",
    "optimizer = torch.optim.Adam(model.parameters(), lr=2e-5)\n",
    "\n",
    "model = torch.load(\"model\")\n",
    "\n",
    "for allinput_ids, allattention_mask, allY in tqdm(valdata_all):\n",
    "    allinput_ids = allinput_ids.squeeze(1).to(device)\n",
    "    allattention_mask = allattention_mask.to(device)\n",
    "    allY = allY.to(device)\n",
    "        \n",
    "    optimizer.zero_grad()\n",
    "    output_all = model(allinput_ids, allattention_mask)\n",
    "            \n",
    "    logits_all = output_all.logits\n",
    "    predictions_all = torch.argmax(logits_all, dim=1)\n",
    "    acc_all = accuracy(predictions_all, allY,'binary', num_classes=2)\n",
    "                \n",
    "    precision =  Precision('multiclass',average='micro', num_classes=2)\n",
    "    pre_all = precision(predictions_all, allY)\n",
    "    f1score =  F1Score('multiclass', num_classes=2)\n",
    "    f1_all = f1score(predictions_all, allY)\n",
    "    recall = Recall('multiclass',average='micro', num_classes=2)\n",
    "    rec_all = recall(predictions_all, allY)\n",
    "\n",
    "print(f'''| All-text Accuracy: {acc_all: .3f}  \n",
    "          | All-text Precision: {pre_all: .3f} \n",
    "          | All-text Recall: {rec_all: .3f} \n",
    "          | All-text F1Score: {f1_all: .3f}''') "
   ]
  },
  {
   "cell_type": "code",
   "execution_count": null,
   "id": "146ca21f-a0fc-48aa-a53c-e0dcc32ef62b",
   "metadata": {},
   "outputs": [],
   "source": []
  },
  {
   "cell_type": "code",
   "execution_count": null,
   "id": "8ac07995-33d5-4192-bac3-35fecf161142",
   "metadata": {},
   "outputs": [],
   "source": []
  }
 ],
 "metadata": {
  "kernelspec": {
   "display_name": "Python 3 (ipykernel)",
   "language": "python",
   "name": "python3"
  },
  "language_info": {
   "codemirror_mode": {
    "name": "ipython",
    "version": 3
   },
   "file_extension": ".py",
   "mimetype": "text/x-python",
   "name": "python",
   "nbconvert_exporter": "python",
   "pygments_lexer": "ipython3",
   "version": "3.11.5"
  }
 },
 "nbformat": 4,
 "nbformat_minor": 5
}
