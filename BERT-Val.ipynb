{
 "cells": [
  {
   "cell_type": "code",
   "execution_count": 1,
   "id": "42be5bb6-0076-427f-b5fa-c31f20e95bfa",
   "metadata": {
    "tags": []
   },
   "outputs": [],
   "source": [
    "import pandas as pd\n",
    "import numpy as np\n",
    "import os\n",
    "from torchmetrics.functional import accuracy\n",
    "from torchmetrics import Recall, F1Score, Precision\n",
    "from sklearn.model_selection import train_test_split\n",
    "from torch.utils.data import DataLoader\n",
    "import torch\n",
    "import numpy as np\n",
    "from transformers import BertTokenizer"
   ]
  },
  {
   "cell_type": "code",
   "execution_count": 2,
   "id": "f97f61fc-083e-401c-bb3d-2503bdb5ce07",
   "metadata": {
    "tags": []
   },
   "outputs": [],
   "source": [
    "model = torch.load('model')"
   ]
  },
  {
   "cell_type": "code",
   "execution_count": 3,
   "id": "81670d39-2cd2-4eae-9878-cd5a34feee6a",
   "metadata": {
    "tags": []
   },
   "outputs": [],
   "source": [
    "fake_text_all = pd.read_csv('DataSet_Misinfo_FAKE.csv').loc[1001:1101,:]\n",
    "real_text_all = pd.read_csv('DataSet_Misinfo_TRUE.csv').loc[1001:1101,:]\n",
    "\n",
    "fake_text_all.drop(fake_text_all.columns[0],axis=1,inplace=True)\n",
    "real_text_all.drop(real_text_all.columns[0],axis=1,inplace=True)"
   ]
  },
  {
   "cell_type": "code",
   "execution_count": 4,
   "id": "b7668043-a77f-421a-ad70-0129cda5f53b",
   "metadata": {
    "tags": []
   },
   "outputs": [],
   "source": [
    "mixed_text_all = pd.concat([real_text_all,fake_text_all])['text'].tolist()\n",
    "\n",
    "for i in range(0,len(mixed_text_all)):\n",
    "    mixed_text_all[i] = str(mixed_text_all[i])\n",
    "    \n",
    "Y_all = np.concatenate([np.ones(len(real_text_all)), np.zeros(len(fake_text_all))])"
   ]
  },
  {
   "cell_type": "code",
   "execution_count": 5,
   "id": "f2ea8c73-b23b-45c1-bd55-087b6ca33723",
   "metadata": {
    "tags": []
   },
   "outputs": [],
   "source": [
    "tokenizer = BertTokenizer.from_pretrained('bert-base-cased')#选用large-cased版本\n",
    "tokenized_text_all = tokenizer(mixed_text_all, padding='max_length', truncation=True, max_length=512, return_tensors='pt')\n",
    "\n",
    "\n",
    "#构建TensorDataset用于训练\n",
    "input_ids_all = tokenized_text_all['input_ids']\n",
    "attention_mask_all = tokenized_text_all['attention_mask']\n",
    "Y_all = torch.tensor(Y_all)\n",
    "\n",
    "data_all = torch.utils.data.TensorDataset(input_ids_all,attention_mask_all,Y_all)"
   ]
  },
  {
   "cell_type": "code",
   "execution_count": 6,
   "id": "e879bedb-4a30-438f-8250-ed36214ca005",
   "metadata": {
    "tags": []
   },
   "outputs": [],
   "source": [
    "valdata_all = DataLoader(data_all, batch_size=32)"
   ]
  },
  {
   "cell_type": "code",
   "execution_count": null,
   "id": "a98e708a-04a2-43aa-93d7-fd37798866b8",
   "metadata": {
    "tags": []
   },
   "outputs": [
    {
     "name": "stderr",
     "output_type": "stream",
     "text": [
      " 14%|█▍        | 1/7 [00:18<01:53, 18.93s/it]"
     ]
    }
   ],
   "source": [
    "from tqdm import tqdm\n",
    "\n",
    "device = torch.device(\"cuda\" if torch.cuda.is_available() else \"cpu\")\n",
    "optimizer = torch.optim.Adam(model.parameters(), lr=2e-5)\n",
    "\n",
    "model = torch.load(\"model\")\n",
    "\n",
    "for allinput_ids, allattention_mask, allY in tqdm(valdata_all):\n",
    "    allinput_ids = allinput_ids.squeeze(1).to(device)\n",
    "    allattention_mask = allattention_mask.to(device)\n",
    "    allY = allY.to(device)\n",
    "        \n",
    "    optimizer.zero_grad()\n",
    "    output_all = model(allinput_ids, allattention_mask)\n",
    "            \n",
    "    logits_all = output_all.logits\n",
    "    predictions_all = torch.argmax(logits_all, dim=1)\n",
    "    acc_all = accuracy(predictions_all, allY,'binary', num_classes=2)\n",
    "                \n",
    "    precision =  Precision('multiclass',average='micro', num_classes=2)\n",
    "    pre_all = precision(predictions_all, allY)\n",
    "    f1score =  F1Score('multiclass', num_classes=2)\n",
    "    f1_all = f1score(predictions_all, allY)\n",
    "    recall = Recall('multiclass',average='micro', num_classes=2)\n",
    "    rec_all = recall(predictions_all, allY)\n",
    "\n",
    "print(f'''| All-text Accuracy: {acc_all: .3f}  \n",
    "          | All-text Precision: {pre_all: .3f} \n",
    "          | All-text Recall: {rec_all: .3f} \n",
    "          | All-text F1Score: {f1_all: .3f}''') "
   ]
  },
  {
   "cell_type": "code",
   "execution_count": null,
   "id": "146ca21f-a0fc-48aa-a53c-e0dcc32ef62b",
   "metadata": {},
   "outputs": [],
   "source": []
  },
  {
   "cell_type": "code",
   "execution_count": null,
   "id": "8ac07995-33d5-4192-bac3-35fecf161142",
   "metadata": {},
   "outputs": [],
   "source": []
  }
 ],
 "metadata": {
  "kernelspec": {
   "display_name": "Python 3 (ipykernel)",
   "language": "python",
   "name": "python3"
  },
  "language_info": {
   "codemirror_mode": {
    "name": "ipython",
    "version": 3
   },
   "file_extension": ".py",
   "mimetype": "text/x-python",
   "name": "python",
   "nbconvert_exporter": "python",
   "pygments_lexer": "ipython3",
   "version": "3.11.5"
  }
 },
 "nbformat": 4,
 "nbformat_minor": 5
}
